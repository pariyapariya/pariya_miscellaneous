{
 "cells": [
  {
   "cell_type": "code",
   "execution_count": 7,
   "metadata": {},
   "outputs": [],
   "source": [
    "# Dependencies\n",
    "import json\n",
    "import requests\n",
    "import pandas as pd\n",
    "import numpy as np\n",
    "\n",
    "from config import api_key"
   ]
  },
  {
   "cell_type": "code",
   "execution_count": 8,
   "metadata": {},
   "outputs": [],
   "source": [
    "# Create Base URL\n",
    "host = \"http://api.census.gov/data\"\n",
    "year = \"2018\"\n",
    "dataset = \"cbp\"\n",
    "\n",
    "# Use join function to combine these components by \"/\"\n",
    "base_url = \"/\".join([host, year, dataset])\n",
    "#print(base_url)"
   ]
  },
  {
   "cell_type": "code",
   "execution_count": 9,
   "metadata": {},
   "outputs": [],
   "source": [
    "# Create a dict to carry the query strings \n",
    "# There are 2 params required: (1)get--variables (2)for--geometry interests\n",
    "\n",
    "predicates = {}\n",
    "get_vars = [\"YEAR\", \"NAME\", \"ESTAB\", \"EMP\", \"NAICS2017\", \"SUBSECTOR\"]\n",
    "predicates[\"get\"] = \",\".join(get_vars)\n",
    "predicates[\"for\"] = \"state:*\"\n",
    "# print(predicates)"
   ]
  },
  {
   "cell_type": "code",
   "execution_count": 11,
   "metadata": {},
   "outputs": [
    {
     "name": "stdout",
     "output_type": "stream",
     "text": [
      "http://api.census.gov/data/2018/cbp?get=YEAR,NAME,ESTAB,EMP,NAICS2017,SUBSECTOR&for=state:*&key=8749b14c05eb937b188b079e9443f239319127e8\n"
     ]
    }
   ],
   "source": [
    "url = f'{base_url}?get={predicates[\"get\"]}&for={predicates[\"for\"]}&key={api_key}'\n",
    "print(url)"
   ]
  },
  {
   "cell_type": "code",
   "execution_count": 12,
   "metadata": {},
   "outputs": [],
   "source": [
    "# Execute the request and store json-formatted responses in a variable\n",
    "# res = requests.get(base_url, params=predicates) --> initial use\n",
    "res = requests.get(url).json()"
   ]
  },
  {
   "cell_type": "code",
   "execution_count": 13,
   "metadata": {},
   "outputs": [
    {
     "data": {
      "text/html": [
       "<div>\n",
       "<style scoped>\n",
       "    .dataframe tbody tr th:only-of-type {\n",
       "        vertical-align: middle;\n",
       "    }\n",
       "\n",
       "    .dataframe tbody tr th {\n",
       "        vertical-align: top;\n",
       "    }\n",
       "\n",
       "    .dataframe thead th {\n",
       "        text-align: right;\n",
       "    }\n",
       "</style>\n",
       "<table border=\"1\" class=\"dataframe\">\n",
       "  <thead>\n",
       "    <tr style=\"text-align: right;\">\n",
       "      <th></th>\n",
       "      <th>0</th>\n",
       "      <th>1</th>\n",
       "      <th>2</th>\n",
       "      <th>3</th>\n",
       "      <th>4</th>\n",
       "      <th>5</th>\n",
       "      <th>6</th>\n",
       "    </tr>\n",
       "  </thead>\n",
       "  <tbody>\n",
       "    <tr>\n",
       "      <th>0</th>\n",
       "      <td>YEAR</td>\n",
       "      <td>NAME</td>\n",
       "      <td>ESTAB</td>\n",
       "      <td>EMP</td>\n",
       "      <td>NAICS2017</td>\n",
       "      <td>SUBSECTOR</td>\n",
       "      <td>state</td>\n",
       "    </tr>\n",
       "    <tr>\n",
       "      <th>1</th>\n",
       "      <td>2018</td>\n",
       "      <td>Nebraska</td>\n",
       "      <td>357</td>\n",
       "      <td>21262</td>\n",
       "      <td>55111</td>\n",
       "      <td>551</td>\n",
       "      <td>31</td>\n",
       "    </tr>\n",
       "  </tbody>\n",
       "</table>\n",
       "</div>"
      ],
      "text/plain": [
       "      0         1      2      3          4          5      6\n",
       "0  YEAR      NAME  ESTAB    EMP  NAICS2017  SUBSECTOR  state\n",
       "1  2018  Nebraska    357  21262      55111        551     31"
      ]
     },
     "execution_count": 13,
     "metadata": {},
     "output_type": "execute_result"
    }
   ],
   "source": [
    "# DataFrame\n",
    "res_df = pd.DataFrame(res)\n",
    "res_df.head(2)"
   ]
  },
  {
   "cell_type": "code",
   "execution_count": 14,
   "metadata": {},
   "outputs": [
    {
     "data": {
      "text/html": [
       "<div>\n",
       "<style scoped>\n",
       "    .dataframe tbody tr th:only-of-type {\n",
       "        vertical-align: middle;\n",
       "    }\n",
       "\n",
       "    .dataframe tbody tr th {\n",
       "        vertical-align: top;\n",
       "    }\n",
       "\n",
       "    .dataframe thead th {\n",
       "        text-align: right;\n",
       "    }\n",
       "</style>\n",
       "<table border=\"1\" class=\"dataframe\">\n",
       "  <thead>\n",
       "    <tr style=\"text-align: right;\">\n",
       "      <th></th>\n",
       "      <th>YEAR</th>\n",
       "      <th>NAME</th>\n",
       "      <th>ESTAB</th>\n",
       "      <th>EMP</th>\n",
       "      <th>NAICS2017</th>\n",
       "      <th>SUBSECTOR</th>\n",
       "      <th>state</th>\n",
       "    </tr>\n",
       "  </thead>\n",
       "  <tbody>\n",
       "    <tr>\n",
       "      <th>1</th>\n",
       "      <td>2018</td>\n",
       "      <td>Nebraska</td>\n",
       "      <td>357</td>\n",
       "      <td>21262</td>\n",
       "      <td>55111</td>\n",
       "      <td>551</td>\n",
       "      <td>31</td>\n",
       "    </tr>\n",
       "    <tr>\n",
       "      <th>2</th>\n",
       "      <td>2018</td>\n",
       "      <td>Nebraska</td>\n",
       "      <td>8</td>\n",
       "      <td>330</td>\n",
       "      <td>212312</td>\n",
       "      <td>212</td>\n",
       "      <td>31</td>\n",
       "    </tr>\n",
       "  </tbody>\n",
       "</table>\n",
       "</div>"
      ],
      "text/plain": [
       "0  YEAR      NAME ESTAB    EMP NAICS2017 SUBSECTOR state\n",
       "1  2018  Nebraska   357  21262     55111       551    31\n",
       "2  2018  Nebraska     8    330    212312       212    31"
      ]
     },
     "execution_count": 14,
     "metadata": {},
     "output_type": "execute_result"
    }
   ],
   "source": [
    "# Change the first row of Dataframe to the 'Dataframe Header'\n",
    "res_df.columns = res_df.iloc[0]\n",
    "cbp = res_df[1:]\n",
    "cbp.head(2)"
   ]
  },
  {
   "cell_type": "code",
   "execution_count": 15,
   "metadata": {},
   "outputs": [],
   "source": [
    "# Rename census variables to be readible for HUMAN!\n",
    "cbp2018 = cbp.rename({\n",
    "                \"YEAR\" : \"Year\",\n",
    "                \"NAME\" : \"States\",\n",
    "                \"ESTAB\" : \"Establishment Counts\",\n",
    "                \"EMP\" : \"Employment Counts\",\n",
    "                \"NAICS2017\" : \"NAICS Code\",\n",
    "                \"SUBSECTOR\" : \"Sub Sector Code\"\n",
    "                }, axis=\"columns\")"
   ]
  },
  {
   "cell_type": "code",
   "execution_count": 16,
   "metadata": {},
   "outputs": [
    {
     "data": {
      "text/plain": [
       "0\n",
       "Year                    object\n",
       "States                  object\n",
       "Establishment Counts     int64\n",
       "Employment Counts        int64\n",
       "NAICS Code              object\n",
       "Sub Sector Code         object\n",
       "state                   object\n",
       "dtype: object"
      ]
     },
     "execution_count": 16,
     "metadata": {},
     "output_type": "execute_result"
    }
   ],
   "source": [
    "# Change data type for some columns -- from Objects to Int\n",
    "cbp2018.astype({\"Establishment Counts\": \"int\",\n",
    "                \"Employment Counts\" : \"int\"\n",
    "               }).dtypes"
   ]
  },
  {
   "cell_type": "code",
   "execution_count": 17,
   "metadata": {},
   "outputs": [],
   "source": [
    "cbp2018 = cbp2018[[\"Year\", \"States\", \"Establishment Counts\", \"Employment Counts\", \"NAICS Code\", \"Sub Sector Code\"]]"
   ]
  },
  {
   "cell_type": "code",
   "execution_count": 28,
   "metadata": {},
   "outputs": [
    {
     "data": {
      "text/html": [
       "<div>\n",
       "<style scoped>\n",
       "    .dataframe tbody tr th:only-of-type {\n",
       "        vertical-align: middle;\n",
       "    }\n",
       "\n",
       "    .dataframe tbody tr th {\n",
       "        vertical-align: top;\n",
       "    }\n",
       "\n",
       "    .dataframe thead th {\n",
       "        text-align: right;\n",
       "    }\n",
       "</style>\n",
       "<table border=\"1\" class=\"dataframe\">\n",
       "  <thead>\n",
       "    <tr style=\"text-align: right;\">\n",
       "      <th></th>\n",
       "      <th>Year</th>\n",
       "      <th>States</th>\n",
       "      <th>Establishment Counts</th>\n",
       "      <th>Employment Counts</th>\n",
       "      <th>NAICS Code</th>\n",
       "      <th>Sub Sector Code</th>\n",
       "    </tr>\n",
       "  </thead>\n",
       "  <tbody>\n",
       "    <tr>\n",
       "      <th>88182</th>\n",
       "      <td>2018</td>\n",
       "      <td>Minnesota</td>\n",
       "      <td>52</td>\n",
       "      <td>211</td>\n",
       "      <td>561622</td>\n",
       "      <td>561</td>\n",
       "    </tr>\n",
       "    <tr>\n",
       "      <th>88183</th>\n",
       "      <td>2018</td>\n",
       "      <td>Minnesota</td>\n",
       "      <td>3835</td>\n",
       "      <td>30210</td>\n",
       "      <td>5617</td>\n",
       "      <td>561</td>\n",
       "    </tr>\n",
       "    <tr>\n",
       "      <th>88184</th>\n",
       "      <td>2018</td>\n",
       "      <td>Minnesota</td>\n",
       "      <td>298</td>\n",
       "      <td>4397</td>\n",
       "      <td>562111</td>\n",
       "      <td>562</td>\n",
       "    </tr>\n",
       "    <tr>\n",
       "      <th>88185</th>\n",
       "      <td>2018</td>\n",
       "      <td>Minnesota</td>\n",
       "      <td>129</td>\n",
       "      <td>759</td>\n",
       "      <td>611430</td>\n",
       "      <td>611</td>\n",
       "    </tr>\n",
       "    <tr>\n",
       "      <th>88186</th>\n",
       "      <td>2018</td>\n",
       "      <td>Minnesota</td>\n",
       "      <td>9540</td>\n",
       "      <td>166483</td>\n",
       "      <td>52</td>\n",
       "      <td>None</td>\n",
       "    </tr>\n",
       "  </tbody>\n",
       "</table>\n",
       "</div>"
      ],
      "text/plain": [
       "0      Year     States Establishment Counts Employment Counts NAICS Code  \\\n",
       "88182  2018  Minnesota                   52               211     561622   \n",
       "88183  2018  Minnesota                 3835             30210       5617   \n",
       "88184  2018  Minnesota                  298              4397     562111   \n",
       "88185  2018  Minnesota                  129               759     611430   \n",
       "88186  2018  Minnesota                 9540            166483         52   \n",
       "\n",
       "0     Sub Sector Code  \n",
       "88182             561  \n",
       "88183             561  \n",
       "88184             562  \n",
       "88185             611  \n",
       "88186            None  "
      ]
     },
     "execution_count": 28,
     "metadata": {},
     "output_type": "execute_result"
    }
   ],
   "source": [
    "cbp2018.tail()"
   ]
  }
 ],
 "metadata": {
  "kernelspec": {
   "display_name": "Python 3",
   "language": "python",
   "name": "python3"
  },
  "language_info": {
   "codemirror_mode": {
    "name": "ipython",
    "version": 3
   },
   "file_extension": ".py",
   "mimetype": "text/x-python",
   "name": "python",
   "nbconvert_exporter": "python",
   "pygments_lexer": "ipython3",
   "version": "3.8.3"
  }
 },
 "nbformat": 4,
 "nbformat_minor": 4
}
