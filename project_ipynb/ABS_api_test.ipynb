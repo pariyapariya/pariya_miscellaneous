{
 "cells": [
  {
   "cell_type": "code",
   "execution_count": 1,
   "metadata": {},
   "outputs": [],
   "source": [
    "# Dependencies\n",
    "import json\n",
    "import requests\n",
    "import pandas as pd\n",
    "from config import api_key"
   ]
  },
  {
   "cell_type": "code",
   "execution_count": 2,
   "metadata": {},
   "outputs": [],
   "source": [
    "#url = \"https://api.census.gov/data/2017/abscs?get=GEO_ID,NAICS2017_LABEL,SEX,SEX_LABEL,ETH_GROUP_LABEL,ETH_GROUP,RACE_GROUP_LABEL,RACE_GROUP,VET_GROUP_LABEL,VET_GROUP,FIRMPDEMP&for=metropolitan%20statistical%20area/micropolitan%20statistical%20area:*&NAICS2017=00&key=8749b14c05eb937b188b079e9443f239319127e8\""
   ]
  },
  {
   "cell_type": "code",
   "execution_count": 3,
   "metadata": {},
   "outputs": [],
   "source": [
    "url = \"https://api.census.gov/data/2017/abscs?get=\""
   ]
  },
  {
   "cell_type": "code",
   "execution_count": 4,
   "metadata": {},
   "outputs": [],
   "source": [
    "q_url = f\"{url}SEX_LABEL,ETH_GROUP_LABEL,NAICS2017_LABEL,FIRMPDEMP&for=county:*&in=state:*&key={api_key}\""
   ]
  },
  {
   "cell_type": "code",
   "execution_count": 7,
   "metadata": {},
   "outputs": [
    {
     "name": "stdout",
     "output_type": "stream",
     "text": [
      "https://api.census.gov/data/2017/abscs?get=SEX_LABEL,ETH_GROUP_LABEL,NAICS2017_LABEL,FIRMPDEMP&for=county:*&in=state:*&key=8749b14c05eb937b188b079e9443f239319127e8\n"
     ]
    }
   ],
   "source": [
    "print(q_url)"
   ]
  },
  {
   "cell_type": "code",
   "execution_count": 9,
   "metadata": {},
   "outputs": [],
   "source": [
    "res = requests.get(q_url).json()"
   ]
  },
  {
   "cell_type": "code",
   "execution_count": 11,
   "metadata": {},
   "outputs": [
    {
     "data": {
      "text/html": [
       "<div>\n",
       "<style scoped>\n",
       "    .dataframe tbody tr th:only-of-type {\n",
       "        vertical-align: middle;\n",
       "    }\n",
       "\n",
       "    .dataframe tbody tr th {\n",
       "        vertical-align: top;\n",
       "    }\n",
       "\n",
       "    .dataframe thead th {\n",
       "        text-align: right;\n",
       "    }\n",
       "</style>\n",
       "<table border=\"1\" class=\"dataframe\">\n",
       "  <thead>\n",
       "    <tr style=\"text-align: right;\">\n",
       "      <th></th>\n",
       "      <th>0</th>\n",
       "      <th>1</th>\n",
       "      <th>2</th>\n",
       "      <th>3</th>\n",
       "      <th>4</th>\n",
       "      <th>5</th>\n",
       "    </tr>\n",
       "  </thead>\n",
       "  <tbody>\n",
       "    <tr>\n",
       "      <th>0</th>\n",
       "      <td>SEX_LABEL</td>\n",
       "      <td>ETH_GROUP_LABEL</td>\n",
       "      <td>NAICS2017_LABEL</td>\n",
       "      <td>FIRMPDEMP</td>\n",
       "      <td>state</td>\n",
       "      <td>county</td>\n",
       "    </tr>\n",
       "    <tr>\n",
       "      <th>1</th>\n",
       "      <td>Total</td>\n",
       "      <td>Total</td>\n",
       "      <td>Total for all sectors</td>\n",
       "      <td>561</td>\n",
       "      <td>47</td>\n",
       "      <td>177</td>\n",
       "    </tr>\n",
       "    <tr>\n",
       "      <th>2</th>\n",
       "      <td>Total</td>\n",
       "      <td>Total</td>\n",
       "      <td>Total for all sectors</td>\n",
       "      <td>2212</td>\n",
       "      <td>47</td>\n",
       "      <td>179</td>\n",
       "    </tr>\n",
       "    <tr>\n",
       "      <th>3</th>\n",
       "      <td>Total</td>\n",
       "      <td>Total</td>\n",
       "      <td>Total for all sectors</td>\n",
       "      <td>551</td>\n",
       "      <td>47</td>\n",
       "      <td>183</td>\n",
       "    </tr>\n",
       "    <tr>\n",
       "      <th>4</th>\n",
       "      <td>Total</td>\n",
       "      <td>Total</td>\n",
       "      <td>Total for all sectors</td>\n",
       "      <td>244</td>\n",
       "      <td>47</td>\n",
       "      <td>005</td>\n",
       "    </tr>\n",
       "  </tbody>\n",
       "</table>\n",
       "</div>"
      ],
      "text/plain": [
       "           0                1                      2          3      4       5\n",
       "0  SEX_LABEL  ETH_GROUP_LABEL        NAICS2017_LABEL  FIRMPDEMP  state  county\n",
       "1      Total            Total  Total for all sectors        561     47     177\n",
       "2      Total            Total  Total for all sectors       2212     47     179\n",
       "3      Total            Total  Total for all sectors        551     47     183\n",
       "4      Total            Total  Total for all sectors        244     47     005"
      ]
     },
     "execution_count": 11,
     "metadata": {},
     "output_type": "execute_result"
    }
   ],
   "source": [
    "res_df = pd.DataFrame(res)\n",
    "res_df.head()"
   ]
  }
 ],
 "metadata": {
  "kernelspec": {
   "display_name": "Python 3",
   "language": "python",
   "name": "python3"
  },
  "language_info": {
   "codemirror_mode": {
    "name": "ipython",
    "version": 3
   },
   "file_extension": ".py",
   "mimetype": "text/x-python",
   "name": "python",
   "nbconvert_exporter": "python",
   "pygments_lexer": "ipython3",
   "version": "3.8.3"
  }
 },
 "nbformat": 4,
 "nbformat_minor": 4
}
